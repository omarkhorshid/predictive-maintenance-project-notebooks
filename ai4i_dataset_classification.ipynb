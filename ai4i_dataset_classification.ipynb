{
  "nbformat": 4,
  "nbformat_minor": 0,
  "metadata": {
    "colab": {
      "provenance": [],
      "authorship_tag": "ABX9TyPKdLXlLiZWJkHJKrgpdxb1"
    },
    "kernelspec": {
      "name": "python3",
      "display_name": "Python 3"
    },
    "language_info": {
      "name": "python"
    }
  },
  "cells": [
    {
      "cell_type": "code",
      "source": [
        "import pandas as pd\n",
        "import matplotlib.pyplot as plt"
      ],
      "metadata": {
        "id": "6mcSOfoLV5ni"
      },
      "execution_count": null,
      "outputs": []
    },
    {
      "cell_type": "code",
      "source": [
        "df = pd.read_csv('dataset.csv')\n",
        "df.head()"
      ],
      "metadata": {
        "colab": {
          "base_uri": "https://localhost:8080/",
          "height": 206
        },
        "id": "agnz9W_MX1s8",
        "outputId": "cbd060b7-cd2c-4c66-bd58-82721013923c"
      },
      "execution_count": null,
      "outputs": [
        {
          "output_type": "execute_result",
          "data": {
            "text/plain": [
              "   UDI Product ID Type  Air temperature [K]  Process temperature [K]  \\\n",
              "0    1     M14860    M                298.1                    308.6   \n",
              "1    2     L47181    L                298.2                    308.7   \n",
              "2    3     L47182    L                298.1                    308.5   \n",
              "3    4     L47183    L                298.2                    308.6   \n",
              "4    5     L47184    L                298.2                    308.7   \n",
              "\n",
              "   Rotational speed [rpm]  Torque [Nm]  Tool wear [min]  Target Failure Type  \n",
              "0                    1551         42.8                0       0   No Failure  \n",
              "1                    1408         46.3                3       0   No Failure  \n",
              "2                    1498         49.4                5       0   No Failure  \n",
              "3                    1433         39.5                7       0   No Failure  \n",
              "4                    1408         40.0                9       0   No Failure  "
            ],
            "text/html": [
              "\n",
              "  <div id=\"df-a73d5bff-02e4-4eb1-9984-b8c6a20f2cb1\">\n",
              "    <div class=\"colab-df-container\">\n",
              "      <div>\n",
              "<style scoped>\n",
              "    .dataframe tbody tr th:only-of-type {\n",
              "        vertical-align: middle;\n",
              "    }\n",
              "\n",
              "    .dataframe tbody tr th {\n",
              "        vertical-align: top;\n",
              "    }\n",
              "\n",
              "    .dataframe thead th {\n",
              "        text-align: right;\n",
              "    }\n",
              "</style>\n",
              "<table border=\"1\" class=\"dataframe\">\n",
              "  <thead>\n",
              "    <tr style=\"text-align: right;\">\n",
              "      <th></th>\n",
              "      <th>UDI</th>\n",
              "      <th>Product ID</th>\n",
              "      <th>Type</th>\n",
              "      <th>Air temperature [K]</th>\n",
              "      <th>Process temperature [K]</th>\n",
              "      <th>Rotational speed [rpm]</th>\n",
              "      <th>Torque [Nm]</th>\n",
              "      <th>Tool wear [min]</th>\n",
              "      <th>Target</th>\n",
              "      <th>Failure Type</th>\n",
              "    </tr>\n",
              "  </thead>\n",
              "  <tbody>\n",
              "    <tr>\n",
              "      <th>0</th>\n",
              "      <td>1</td>\n",
              "      <td>M14860</td>\n",
              "      <td>M</td>\n",
              "      <td>298.1</td>\n",
              "      <td>308.6</td>\n",
              "      <td>1551</td>\n",
              "      <td>42.8</td>\n",
              "      <td>0</td>\n",
              "      <td>0</td>\n",
              "      <td>No Failure</td>\n",
              "    </tr>\n",
              "    <tr>\n",
              "      <th>1</th>\n",
              "      <td>2</td>\n",
              "      <td>L47181</td>\n",
              "      <td>L</td>\n",
              "      <td>298.2</td>\n",
              "      <td>308.7</td>\n",
              "      <td>1408</td>\n",
              "      <td>46.3</td>\n",
              "      <td>3</td>\n",
              "      <td>0</td>\n",
              "      <td>No Failure</td>\n",
              "    </tr>\n",
              "    <tr>\n",
              "      <th>2</th>\n",
              "      <td>3</td>\n",
              "      <td>L47182</td>\n",
              "      <td>L</td>\n",
              "      <td>298.1</td>\n",
              "      <td>308.5</td>\n",
              "      <td>1498</td>\n",
              "      <td>49.4</td>\n",
              "      <td>5</td>\n",
              "      <td>0</td>\n",
              "      <td>No Failure</td>\n",
              "    </tr>\n",
              "    <tr>\n",
              "      <th>3</th>\n",
              "      <td>4</td>\n",
              "      <td>L47183</td>\n",
              "      <td>L</td>\n",
              "      <td>298.2</td>\n",
              "      <td>308.6</td>\n",
              "      <td>1433</td>\n",
              "      <td>39.5</td>\n",
              "      <td>7</td>\n",
              "      <td>0</td>\n",
              "      <td>No Failure</td>\n",
              "    </tr>\n",
              "    <tr>\n",
              "      <th>4</th>\n",
              "      <td>5</td>\n",
              "      <td>L47184</td>\n",
              "      <td>L</td>\n",
              "      <td>298.2</td>\n",
              "      <td>308.7</td>\n",
              "      <td>1408</td>\n",
              "      <td>40.0</td>\n",
              "      <td>9</td>\n",
              "      <td>0</td>\n",
              "      <td>No Failure</td>\n",
              "    </tr>\n",
              "  </tbody>\n",
              "</table>\n",
              "</div>\n",
              "      <button class=\"colab-df-convert\" onclick=\"convertToInteractive('df-a73d5bff-02e4-4eb1-9984-b8c6a20f2cb1')\"\n",
              "              title=\"Convert this dataframe to an interactive table.\"\n",
              "              style=\"display:none;\">\n",
              "        \n",
              "  <svg xmlns=\"http://www.w3.org/2000/svg\" height=\"24px\"viewBox=\"0 0 24 24\"\n",
              "       width=\"24px\">\n",
              "    <path d=\"M0 0h24v24H0V0z\" fill=\"none\"/>\n",
              "    <path d=\"M18.56 5.44l.94 2.06.94-2.06 2.06-.94-2.06-.94-.94-2.06-.94 2.06-2.06.94zm-11 1L8.5 8.5l.94-2.06 2.06-.94-2.06-.94L8.5 2.5l-.94 2.06-2.06.94zm10 10l.94 2.06.94-2.06 2.06-.94-2.06-.94-.94-2.06-.94 2.06-2.06.94z\"/><path d=\"M17.41 7.96l-1.37-1.37c-.4-.4-.92-.59-1.43-.59-.52 0-1.04.2-1.43.59L10.3 9.45l-7.72 7.72c-.78.78-.78 2.05 0 2.83L4 21.41c.39.39.9.59 1.41.59.51 0 1.02-.2 1.41-.59l7.78-7.78 2.81-2.81c.8-.78.8-2.07 0-2.86zM5.41 20L4 18.59l7.72-7.72 1.47 1.35L5.41 20z\"/>\n",
              "  </svg>\n",
              "      </button>\n",
              "      \n",
              "  <style>\n",
              "    .colab-df-container {\n",
              "      display:flex;\n",
              "      flex-wrap:wrap;\n",
              "      gap: 12px;\n",
              "    }\n",
              "\n",
              "    .colab-df-convert {\n",
              "      background-color: #E8F0FE;\n",
              "      border: none;\n",
              "      border-radius: 50%;\n",
              "      cursor: pointer;\n",
              "      display: none;\n",
              "      fill: #1967D2;\n",
              "      height: 32px;\n",
              "      padding: 0 0 0 0;\n",
              "      width: 32px;\n",
              "    }\n",
              "\n",
              "    .colab-df-convert:hover {\n",
              "      background-color: #E2EBFA;\n",
              "      box-shadow: 0px 1px 2px rgba(60, 64, 67, 0.3), 0px 1px 3px 1px rgba(60, 64, 67, 0.15);\n",
              "      fill: #174EA6;\n",
              "    }\n",
              "\n",
              "    [theme=dark] .colab-df-convert {\n",
              "      background-color: #3B4455;\n",
              "      fill: #D2E3FC;\n",
              "    }\n",
              "\n",
              "    [theme=dark] .colab-df-convert:hover {\n",
              "      background-color: #434B5C;\n",
              "      box-shadow: 0px 1px 3px 1px rgba(0, 0, 0, 0.15);\n",
              "      filter: drop-shadow(0px 1px 2px rgba(0, 0, 0, 0.3));\n",
              "      fill: #FFFFFF;\n",
              "    }\n",
              "  </style>\n",
              "\n",
              "      <script>\n",
              "        const buttonEl =\n",
              "          document.querySelector('#df-a73d5bff-02e4-4eb1-9984-b8c6a20f2cb1 button.colab-df-convert');\n",
              "        buttonEl.style.display =\n",
              "          google.colab.kernel.accessAllowed ? 'block' : 'none';\n",
              "\n",
              "        async function convertToInteractive(key) {\n",
              "          const element = document.querySelector('#df-a73d5bff-02e4-4eb1-9984-b8c6a20f2cb1');\n",
              "          const dataTable =\n",
              "            await google.colab.kernel.invokeFunction('convertToInteractive',\n",
              "                                                     [key], {});\n",
              "          if (!dataTable) return;\n",
              "\n",
              "          const docLinkHtml = 'Like what you see? Visit the ' +\n",
              "            '<a target=\"_blank\" href=https://colab.research.google.com/notebooks/data_table.ipynb>data table notebook</a>'\n",
              "            + ' to learn more about interactive tables.';\n",
              "          element.innerHTML = '';\n",
              "          dataTable['output_type'] = 'display_data';\n",
              "          await google.colab.output.renderOutput(dataTable, element);\n",
              "          const docLink = document.createElement('div');\n",
              "          docLink.innerHTML = docLinkHtml;\n",
              "          element.appendChild(docLink);\n",
              "        }\n",
              "      </script>\n",
              "    </div>\n",
              "  </div>\n",
              "  "
            ]
          },
          "metadata": {},
          "execution_count": 2
        }
      ]
    },
    {
      "cell_type": "code",
      "source": [
        "df = df.drop(['UDI','Product ID','Type','Failure Type'],axis = 1)\n",
        "df.head()"
      ],
      "metadata": {
        "colab": {
          "base_uri": "https://localhost:8080/",
          "height": 206
        },
        "id": "PvfR7v86RDq6",
        "outputId": "331f8854-d43f-4173-fb62-ec764be8d9e8"
      },
      "execution_count": null,
      "outputs": [
        {
          "output_type": "execute_result",
          "data": {
            "text/plain": [
              "   Air temperature [K]  Process temperature [K]  Rotational speed [rpm]  \\\n",
              "0                298.1                    308.6                    1551   \n",
              "1                298.2                    308.7                    1408   \n",
              "2                298.1                    308.5                    1498   \n",
              "3                298.2                    308.6                    1433   \n",
              "4                298.2                    308.7                    1408   \n",
              "\n",
              "   Torque [Nm]  Tool wear [min]  Target  \n",
              "0         42.8                0       0  \n",
              "1         46.3                3       0  \n",
              "2         49.4                5       0  \n",
              "3         39.5                7       0  \n",
              "4         40.0                9       0  "
            ],
            "text/html": [
              "\n",
              "  <div id=\"df-0a7f3ff5-d626-4e66-8f00-720b899e2343\">\n",
              "    <div class=\"colab-df-container\">\n",
              "      <div>\n",
              "<style scoped>\n",
              "    .dataframe tbody tr th:only-of-type {\n",
              "        vertical-align: middle;\n",
              "    }\n",
              "\n",
              "    .dataframe tbody tr th {\n",
              "        vertical-align: top;\n",
              "    }\n",
              "\n",
              "    .dataframe thead th {\n",
              "        text-align: right;\n",
              "    }\n",
              "</style>\n",
              "<table border=\"1\" class=\"dataframe\">\n",
              "  <thead>\n",
              "    <tr style=\"text-align: right;\">\n",
              "      <th></th>\n",
              "      <th>Air temperature [K]</th>\n",
              "      <th>Process temperature [K]</th>\n",
              "      <th>Rotational speed [rpm]</th>\n",
              "      <th>Torque [Nm]</th>\n",
              "      <th>Tool wear [min]</th>\n",
              "      <th>Target</th>\n",
              "    </tr>\n",
              "  </thead>\n",
              "  <tbody>\n",
              "    <tr>\n",
              "      <th>0</th>\n",
              "      <td>298.1</td>\n",
              "      <td>308.6</td>\n",
              "      <td>1551</td>\n",
              "      <td>42.8</td>\n",
              "      <td>0</td>\n",
              "      <td>0</td>\n",
              "    </tr>\n",
              "    <tr>\n",
              "      <th>1</th>\n",
              "      <td>298.2</td>\n",
              "      <td>308.7</td>\n",
              "      <td>1408</td>\n",
              "      <td>46.3</td>\n",
              "      <td>3</td>\n",
              "      <td>0</td>\n",
              "    </tr>\n",
              "    <tr>\n",
              "      <th>2</th>\n",
              "      <td>298.1</td>\n",
              "      <td>308.5</td>\n",
              "      <td>1498</td>\n",
              "      <td>49.4</td>\n",
              "      <td>5</td>\n",
              "      <td>0</td>\n",
              "    </tr>\n",
              "    <tr>\n",
              "      <th>3</th>\n",
              "      <td>298.2</td>\n",
              "      <td>308.6</td>\n",
              "      <td>1433</td>\n",
              "      <td>39.5</td>\n",
              "      <td>7</td>\n",
              "      <td>0</td>\n",
              "    </tr>\n",
              "    <tr>\n",
              "      <th>4</th>\n",
              "      <td>298.2</td>\n",
              "      <td>308.7</td>\n",
              "      <td>1408</td>\n",
              "      <td>40.0</td>\n",
              "      <td>9</td>\n",
              "      <td>0</td>\n",
              "    </tr>\n",
              "  </tbody>\n",
              "</table>\n",
              "</div>\n",
              "      <button class=\"colab-df-convert\" onclick=\"convertToInteractive('df-0a7f3ff5-d626-4e66-8f00-720b899e2343')\"\n",
              "              title=\"Convert this dataframe to an interactive table.\"\n",
              "              style=\"display:none;\">\n",
              "        \n",
              "  <svg xmlns=\"http://www.w3.org/2000/svg\" height=\"24px\"viewBox=\"0 0 24 24\"\n",
              "       width=\"24px\">\n",
              "    <path d=\"M0 0h24v24H0V0z\" fill=\"none\"/>\n",
              "    <path d=\"M18.56 5.44l.94 2.06.94-2.06 2.06-.94-2.06-.94-.94-2.06-.94 2.06-2.06.94zm-11 1L8.5 8.5l.94-2.06 2.06-.94-2.06-.94L8.5 2.5l-.94 2.06-2.06.94zm10 10l.94 2.06.94-2.06 2.06-.94-2.06-.94-.94-2.06-.94 2.06-2.06.94z\"/><path d=\"M17.41 7.96l-1.37-1.37c-.4-.4-.92-.59-1.43-.59-.52 0-1.04.2-1.43.59L10.3 9.45l-7.72 7.72c-.78.78-.78 2.05 0 2.83L4 21.41c.39.39.9.59 1.41.59.51 0 1.02-.2 1.41-.59l7.78-7.78 2.81-2.81c.8-.78.8-2.07 0-2.86zM5.41 20L4 18.59l7.72-7.72 1.47 1.35L5.41 20z\"/>\n",
              "  </svg>\n",
              "      </button>\n",
              "      \n",
              "  <style>\n",
              "    .colab-df-container {\n",
              "      display:flex;\n",
              "      flex-wrap:wrap;\n",
              "      gap: 12px;\n",
              "    }\n",
              "\n",
              "    .colab-df-convert {\n",
              "      background-color: #E8F0FE;\n",
              "      border: none;\n",
              "      border-radius: 50%;\n",
              "      cursor: pointer;\n",
              "      display: none;\n",
              "      fill: #1967D2;\n",
              "      height: 32px;\n",
              "      padding: 0 0 0 0;\n",
              "      width: 32px;\n",
              "    }\n",
              "\n",
              "    .colab-df-convert:hover {\n",
              "      background-color: #E2EBFA;\n",
              "      box-shadow: 0px 1px 2px rgba(60, 64, 67, 0.3), 0px 1px 3px 1px rgba(60, 64, 67, 0.15);\n",
              "      fill: #174EA6;\n",
              "    }\n",
              "\n",
              "    [theme=dark] .colab-df-convert {\n",
              "      background-color: #3B4455;\n",
              "      fill: #D2E3FC;\n",
              "    }\n",
              "\n",
              "    [theme=dark] .colab-df-convert:hover {\n",
              "      background-color: #434B5C;\n",
              "      box-shadow: 0px 1px 3px 1px rgba(0, 0, 0, 0.15);\n",
              "      filter: drop-shadow(0px 1px 2px rgba(0, 0, 0, 0.3));\n",
              "      fill: #FFFFFF;\n",
              "    }\n",
              "  </style>\n",
              "\n",
              "      <script>\n",
              "        const buttonEl =\n",
              "          document.querySelector('#df-0a7f3ff5-d626-4e66-8f00-720b899e2343 button.colab-df-convert');\n",
              "        buttonEl.style.display =\n",
              "          google.colab.kernel.accessAllowed ? 'block' : 'none';\n",
              "\n",
              "        async function convertToInteractive(key) {\n",
              "          const element = document.querySelector('#df-0a7f3ff5-d626-4e66-8f00-720b899e2343');\n",
              "          const dataTable =\n",
              "            await google.colab.kernel.invokeFunction('convertToInteractive',\n",
              "                                                     [key], {});\n",
              "          if (!dataTable) return;\n",
              "\n",
              "          const docLinkHtml = 'Like what you see? Visit the ' +\n",
              "            '<a target=\"_blank\" href=https://colab.research.google.com/notebooks/data_table.ipynb>data table notebook</a>'\n",
              "            + ' to learn more about interactive tables.';\n",
              "          element.innerHTML = '';\n",
              "          dataTable['output_type'] = 'display_data';\n",
              "          await google.colab.output.renderOutput(dataTable, element);\n",
              "          const docLink = document.createElement('div');\n",
              "          docLink.innerHTML = docLinkHtml;\n",
              "          element.appendChild(docLink);\n",
              "        }\n",
              "      </script>\n",
              "    </div>\n",
              "  </div>\n",
              "  "
            ]
          },
          "metadata": {},
          "execution_count": 3
        }
      ]
    },
    {
      "cell_type": "code",
      "source": [
        "plt.hist(df.loc[:,'Target'])\n",
        "plt.show()"
      ],
      "metadata": {
        "colab": {
          "base_uri": "https://localhost:8080/",
          "height": 266
        },
        "id": "-cM9A_DPXLSo",
        "outputId": "527d9f61-1cb1-4617-f28c-790e411fbbc7"
      },
      "execution_count": null,
      "outputs": [
        {
          "output_type": "display_data",
          "data": {
            "text/plain": [
              "<Figure size 432x288 with 1 Axes>"
            ],
            "image/png": "[encoded data removed]"
          },
          "metadata": {
            "needs_background": "light"
          }
        }
      ]
    },
    {
      "cell_type": "code",
      "execution_count": null,
      "metadata": {
        "id": "RhLY93dZZiFt",
        "colab": {
          "base_uri": "https://localhost:8080/",
          "height": 266
        },
        "outputId": "2d1e0889-0853-4a3a-cf50-9a3942014468"
      },
      "outputs": [
        {
          "output_type": "display_data",
          "data": {
            "text/plain": [
              "<Figure size 432x288 with 1 Axes>"
            ],
            "image/png": "[encoded data removed]"
          },
          "metadata": {
            "needs_background": "light"
          }
        }
      ],
      "source": [
        "df_ones = df[df.loc[:,'Target'].values==1]\n",
        "\n",
        "df_zeros = df[df.loc[:,'Target'].values==0]\n",
        "df_zeros = df_zeros.sample(n=len(df_ones))\n",
        "\n",
        "df_merged = pd.concat([df_ones, df_zeros])\n",
        "\n",
        "df_shuffled = df_merged.sample(frac=1)\n",
        "\n",
        "plt.hist(df_shuffled.loc[:,'Target'])\n",
        "plt.show()"
      ]
    },
    {
      "cell_type": "code",
      "source": [
        "df_shuffled.to_csv('dataset_prepped.csv', index=False, header=False)"
      ],
      "metadata": {
        "id": "z2SHeGaPY1ZT"
      },
      "execution_count": null,
      "outputs": []
    },
    {
      "cell_type": "markdown",
      "source": [
        "# Model training"
      ],
      "metadata": {
        "id": "r3z4uJ9KYDVn"
      }
    },
    {
      "cell_type": "code",
      "source": [
        "from numpy import loadtxt\n",
        "import tensorflow as tf\n",
        "from tensorflow.keras.models import Sequential\n",
        "from tensorflow.keras.layers import Dense\n",
        "from keras.utils import plot_model"
      ],
      "metadata": {
        "id": "IoiXynKhYAM7"
      },
      "execution_count": null,
      "outputs": []
    },
    {
      "cell_type": "code",
      "source": [
        "dataset = loadtxt('dataset_prepped.csv', delimiter=',')\n",
        "\n",
        "input = dataset[:500,0:5]\n",
        "output = dataset[:500,5]"
      ],
      "metadata": {
        "id": "5lY9mtCSZQld"
      },
      "execution_count": null,
      "outputs": []
    },
    {
      "cell_type": "code",
      "source": [
        "model = Sequential()\n",
        "model.add(Dense(512, input_shape=(5,), activation='relu'))\n",
        "model.add(Dense(128, activation='relu'))\n",
        "model.add(Dense(1, activation='sigmoid'))\n",
        "\n",
        "model.compile(loss='binary_crossentropy', optimizer='adam', metrics=['accuracy'])"
      ],
      "metadata": {
        "id": "yeF4Qn-hZht3"
      },
      "execution_count": null,
      "outputs": []
    },
    {
      "cell_type": "code",
      "source": [
        "model.fit(input, output, epochs=100, batch_size=5)"
      ],
      "metadata": {
        "colab": {
          "base_uri": "https://localhost:8080/"
        },
        "id": "TX87lDe4ZkM4",
        "outputId": "aeb35035-67c8-4e9d-e52a-79b36a875bbe"
      },
      "execution_count": null,
      "outputs": [
        {
          "output_type": "stream",
          "name": "stdout",
          "text": [
            "Epoch 1/100\n",
            "100/100 [==============================] - 1s 2ms/step - loss: 25.0883 - accuracy: 0.5380\n",
            "Epoch 2/100\n",
            "100/100 [==============================] - 0s 2ms/step - loss: 5.5240 - accuracy: 0.6180\n",
            "Epoch 3/100\n",
            "100/100 [==============================] - 0s 2ms/step - loss: 1.9423 - accuracy: 0.6860\n",
            "Epoch 4/100\n",
            "100/100 [==============================] - 0s 2ms/step - loss: 5.3659 - accuracy: 0.6820\n",
            "Epoch 5/100\n",
            "100/100 [==============================] - 0s 3ms/step - loss: 1.8712 - accuracy: 0.6820\n",
            "Epoch 6/100\n",
            "100/100 [==============================] - 0s 3ms/step - loss: 2.8600 - accuracy: 0.6900\n",
            "Epoch 7/100\n",
            "100/100 [==============================] - 0s 2ms/step - loss: 2.1092 - accuracy: 0.7060\n",
            "Epoch 8/100\n",
            "100/100 [==============================] - 0s 3ms/step - loss: 1.9393 - accuracy: 0.7280\n",
            "Epoch 9/100\n",
            "100/100 [==============================] - 0s 2ms/step - loss: 1.3206 - accuracy: 0.7620\n",
            "Epoch 10/100\n",
            "100/100 [==============================] - 0s 2ms/step - loss: 1.1685 - accuracy: 0.7640\n",
            "Epoch 11/100\n",
            "100/100 [==============================] - 0s 3ms/step - loss: 2.5623 - accuracy: 0.7060\n",
            "Epoch 12/100\n",
            "100/100 [==============================] - 0s 2ms/step - loss: 1.8891 - accuracy: 0.7280\n",
            "Epoch 13/100\n",
            "100/100 [==============================] - 0s 2ms/step - loss: 1.1052 - accuracy: 0.7480\n",
            "Epoch 14/100\n",
            "100/100 [==============================] - 0s 2ms/step - loss: 0.9780 - accuracy: 0.7580\n",
            "Epoch 15/100\n",
            "100/100 [==============================] - 0s 2ms/step - loss: 1.6173 - accuracy: 0.7160\n",
            "Epoch 16/100\n",
            "100/100 [==============================] - 0s 2ms/step - loss: 1.2325 - accuracy: 0.7540\n",
            "Epoch 17/100\n",
            "100/100 [==============================] - 0s 2ms/step - loss: 1.7545 - accuracy: 0.7280\n",
            "Epoch 18/100\n",
            "100/100 [==============================] - 0s 2ms/step - loss: 1.5972 - accuracy: 0.7160\n",
            "Epoch 19/100\n",
            "100/100 [==============================] - 0s 2ms/step - loss: 1.6185 - accuracy: 0.6940\n",
            "Epoch 20/100\n",
            "100/100 [==============================] - 0s 2ms/step - loss: 1.3001 - accuracy: 0.7180\n",
            "Epoch 21/100\n",
            "100/100 [==============================] - 0s 2ms/step - loss: 1.2766 - accuracy: 0.7240\n",
            "Epoch 22/100\n",
            "100/100 [==============================] - 0s 2ms/step - loss: 0.8975 - accuracy: 0.7580\n",
            "Epoch 23/100\n",
            "100/100 [==============================] - 0s 3ms/step - loss: 0.9899 - accuracy: 0.7480\n",
            "Epoch 24/100\n",
            "100/100 [==============================] - 0s 3ms/step - loss: 0.7868 - accuracy: 0.7540\n",
            "Epoch 25/100\n",
            "100/100 [==============================] - 0s 2ms/step - loss: 0.8648 - accuracy: 0.7480\n",
            "Epoch 26/100\n",
            "100/100 [==============================] - 0s 2ms/step - loss: 0.4813 - accuracy: 0.7900\n",
            "Epoch 27/100\n",
            "100/100 [==============================] - 0s 2ms/step - loss: 0.5731 - accuracy: 0.7920\n",
            "Epoch 28/100\n",
            "100/100 [==============================] - 0s 2ms/step - loss: 0.8410 - accuracy: 0.7340\n",
            "Epoch 29/100\n",
            "100/100 [==============================] - 0s 2ms/step - loss: 0.6122 - accuracy: 0.7540\n",
            "Epoch 30/100\n",
            "100/100 [==============================] - 0s 2ms/step - loss: 0.6359 - accuracy: 0.7660\n",
            "Epoch 31/100\n",
            "100/100 [==============================] - 0s 2ms/step - loss: 0.8240 - accuracy: 0.7100\n",
            "Epoch 32/100\n",
            "100/100 [==============================] - 0s 2ms/step - loss: 0.6651 - accuracy: 0.7520\n",
            "Epoch 33/100\n",
            "100/100 [==============================] - 0s 2ms/step - loss: 0.4479 - accuracy: 0.8060\n",
            "Epoch 34/100\n",
            "100/100 [==============================] - 0s 2ms/step - loss: 0.5428 - accuracy: 0.7600\n",
            "Epoch 35/100\n",
            "100/100 [==============================] - 0s 2ms/step - loss: 0.6482 - accuracy: 0.7620\n",
            "Epoch 36/100\n",
            "100/100 [==============================] - 0s 2ms/step - loss: 0.5234 - accuracy: 0.7740\n",
            "Epoch 37/100\n",
            "100/100 [==============================] - 0s 3ms/step - loss: 0.5593 - accuracy: 0.7700\n",
            "Epoch 38/100\n",
            "100/100 [==============================] - 0s 2ms/step - loss: 0.4534 - accuracy: 0.7780\n",
            "Epoch 39/100\n",
            "100/100 [==============================] - 0s 2ms/step - loss: 0.4593 - accuracy: 0.7860\n",
            "Epoch 40/100\n",
            "100/100 [==============================] - 0s 2ms/step - loss: 0.4307 - accuracy: 0.8080\n",
            "Epoch 41/100\n",
            "100/100 [==============================] - 0s 2ms/step - loss: 0.4589 - accuracy: 0.8000\n",
            "Epoch 42/100\n",
            "100/100 [==============================] - 0s 2ms/step - loss: 0.5115 - accuracy: 0.8020\n",
            "Epoch 43/100\n",
            "100/100 [==============================] - 0s 2ms/step - loss: 0.4682 - accuracy: 0.7720\n",
            "Epoch 44/100\n",
            "100/100 [==============================] - 0s 2ms/step - loss: 0.4852 - accuracy: 0.7800\n",
            "Epoch 45/100\n",
            "100/100 [==============================] - 0s 3ms/step - loss: 0.4356 - accuracy: 0.7920\n",
            "Epoch 46/100\n",
            "100/100 [==============================] - 0s 2ms/step - loss: 0.5297 - accuracy: 0.7500\n",
            "Epoch 47/100\n",
            "100/100 [==============================] - 0s 2ms/step - loss: 0.5277 - accuracy: 0.7620\n",
            "Epoch 48/100\n",
            "100/100 [==============================] - 0s 2ms/step - loss: 0.4376 - accuracy: 0.8180\n",
            "Epoch 49/100\n",
            "100/100 [==============================] - 0s 3ms/step - loss: 0.4379 - accuracy: 0.7780\n",
            "Epoch 50/100\n",
            "100/100 [==============================] - 0s 2ms/step - loss: 0.4736 - accuracy: 0.7920\n",
            "Epoch 51/100\n",
            "100/100 [==============================] - 0s 2ms/step - loss: 0.4819 - accuracy: 0.7740\n",
            "Epoch 52/100\n",
            "100/100 [==============================] - 0s 2ms/step - loss: 0.5040 - accuracy: 0.7740\n",
            "Epoch 53/100\n",
            "100/100 [==============================] - 0s 3ms/step - loss: 0.5643 - accuracy: 0.7720\n",
            "Epoch 54/100\n",
            "100/100 [==============================] - 0s 2ms/step - loss: 0.4795 - accuracy: 0.7920\n",
            "Epoch 55/100\n",
            "100/100 [==============================] - 0s 2ms/step - loss: 0.4112 - accuracy: 0.8080\n",
            "Epoch 56/100\n",
            "100/100 [==============================] - 0s 2ms/step - loss: 0.4177 - accuracy: 0.8000\n",
            "Epoch 57/100\n",
            "100/100 [==============================] - 0s 2ms/step - loss: 0.4203 - accuracy: 0.8140\n",
            "Epoch 58/100\n",
            "100/100 [==============================] - 0s 2ms/step - loss: 0.4598 - accuracy: 0.7780\n",
            "Epoch 59/100\n",
            "100/100 [==============================] - 0s 2ms/step - loss: 0.4797 - accuracy: 0.7820\n",
            "Epoch 60/100\n",
            "100/100 [==============================] - 0s 2ms/step - loss: 0.4823 - accuracy: 0.7820\n",
            "Epoch 61/100\n",
            "100/100 [==============================] - 0s 3ms/step - loss: 0.4369 - accuracy: 0.8100\n",
            "Epoch 62/100\n",
            "100/100 [==============================] - 0s 2ms/step - loss: 0.4495 - accuracy: 0.7780\n",
            "Epoch 63/100\n",
            "100/100 [==============================] - 0s 2ms/step - loss: 0.4075 - accuracy: 0.7900\n",
            "Epoch 64/100\n",
            "100/100 [==============================] - 0s 2ms/step - loss: 0.4472 - accuracy: 0.7740\n",
            "Epoch 65/100\n",
            "100/100 [==============================] - 0s 3ms/step - loss: 0.4108 - accuracy: 0.7940\n",
            "Epoch 66/100\n",
            "100/100 [==============================] - 0s 2ms/step - loss: 0.4029 - accuracy: 0.8040\n",
            "Epoch 67/100\n",
            "100/100 [==============================] - 0s 2ms/step - loss: 0.4473 - accuracy: 0.7860\n",
            "Epoch 68/100\n",
            "100/100 [==============================] - 0s 2ms/step - loss: 0.4263 - accuracy: 0.8100\n",
            "Epoch 69/100\n",
            "100/100 [==============================] - 0s 2ms/step - loss: 0.4082 - accuracy: 0.8140\n",
            "Epoch 70/100\n",
            "100/100 [==============================] - 0s 2ms/step - loss: 0.3967 - accuracy: 0.8320\n",
            "Epoch 71/100\n",
            "100/100 [==============================] - 0s 2ms/step - loss: 0.4237 - accuracy: 0.8040\n",
            "Epoch 72/100\n",
            "100/100 [==============================] - 0s 2ms/step - loss: 0.3878 - accuracy: 0.8300\n",
            "Epoch 73/100\n",
            "100/100 [==============================] - 0s 2ms/step - loss: 0.3834 - accuracy: 0.8080\n",
            "Epoch 74/100\n",
            "100/100 [==============================] - 0s 2ms/step - loss: 0.4314 - accuracy: 0.7940\n",
            "Epoch 75/100\n",
            "100/100 [==============================] - 0s 2ms/step - loss: 0.3931 - accuracy: 0.8200\n",
            "Epoch 76/100\n",
            "100/100 [==============================] - 0s 2ms/step - loss: 0.3952 - accuracy: 0.8260\n",
            "Epoch 77/100\n",
            "100/100 [==============================] - 0s 3ms/step - loss: 0.4062 - accuracy: 0.8140\n",
            "Epoch 78/100\n",
            "100/100 [==============================] - 0s 3ms/step - loss: 0.4164 - accuracy: 0.8160\n",
            "Epoch 79/100\n",
            "100/100 [==============================] - 0s 3ms/step - loss: 0.4213 - accuracy: 0.7980\n",
            "Epoch 80/100\n",
            "100/100 [==============================] - 0s 3ms/step - loss: 0.3950 - accuracy: 0.7980\n",
            "Epoch 81/100\n",
            "100/100 [==============================] - 0s 3ms/step - loss: 0.4026 - accuracy: 0.8100\n",
            "Epoch 82/100\n",
            "100/100 [==============================] - 0s 2ms/step - loss: 0.4071 - accuracy: 0.7940\n",
            "Epoch 83/100\n",
            "100/100 [==============================] - 0s 2ms/step - loss: 0.4493 - accuracy: 0.7820\n",
            "Epoch 84/100\n",
            "100/100 [==============================] - 0s 2ms/step - loss: 0.3868 - accuracy: 0.8020\n",
            "Epoch 85/100\n",
            "100/100 [==============================] - 0s 3ms/step - loss: 0.4142 - accuracy: 0.8100\n",
            "Epoch 86/100\n",
            "100/100 [==============================] - 0s 2ms/step - loss: 0.4265 - accuracy: 0.8060\n",
            "Epoch 87/100\n",
            "100/100 [==============================] - 0s 2ms/step - loss: 0.4089 - accuracy: 0.8080\n",
            "Epoch 88/100\n",
            "100/100 [==============================] - 0s 3ms/step - loss: 0.4008 - accuracy: 0.8220\n",
            "Epoch 89/100\n",
            "100/100 [==============================] - 0s 3ms/step - loss: 0.3899 - accuracy: 0.8180\n",
            "Epoch 90/100\n",
            "100/100 [==============================] - 0s 3ms/step - loss: 0.3985 - accuracy: 0.8160\n",
            "Epoch 91/100\n",
            "100/100 [==============================] - 0s 3ms/step - loss: 0.3824 - accuracy: 0.8220\n",
            "Epoch 92/100\n",
            "100/100 [==============================] - 0s 3ms/step - loss: 0.4069 - accuracy: 0.8000\n",
            "Epoch 93/100\n",
            "100/100 [==============================] - 0s 3ms/step - loss: 0.3789 - accuracy: 0.8100\n",
            "Epoch 94/100\n",
            "100/100 [==============================] - 0s 2ms/step - loss: 0.3846 - accuracy: 0.8100\n",
            "Epoch 95/100\n",
            "100/100 [==============================] - 0s 2ms/step - loss: 0.3890 - accuracy: 0.8160\n",
            "Epoch 96/100\n",
            "100/100 [==============================] - 0s 3ms/step - loss: 0.3920 - accuracy: 0.8100\n",
            "Epoch 97/100\n",
            "100/100 [==============================] - 0s 3ms/step - loss: 0.3726 - accuracy: 0.8220\n",
            "Epoch 98/100\n",
            "100/100 [==============================] - 0s 2ms/step - loss: 0.3683 - accuracy: 0.8020\n",
            "Epoch 99/100\n",
            "100/100 [==============================] - 0s 2ms/step - loss: 0.4411 - accuracy: 0.8100\n",
            "Epoch 100/100\n",
            "100/100 [==============================] - 0s 2ms/step - loss: 0.3949 - accuracy: 0.8180\n"
          ]
        },
        {
          "output_type": "execute_result",
          "data": {
            "text/plain": [
              "<keras.callbacks.History at 0x7fd355d8cdc0>"
            ]
          },
          "metadata": {},
          "execution_count": 10
        }
      ]
    },
    {
      "cell_type": "code",
      "source": [
        "_, accuracy = model.evaluate(input, output)\n",
        "print('Accuracy: %.2f' % (accuracy*100))"
      ],
      "metadata": {
        "colab": {
          "base_uri": "https://localhost:8080/"
        },
        "id": "hQ4rnuCaZpDU",
        "outputId": "f6ef8a7d-d79a-4017-db2b-d9c1158f1572"
      },
      "execution_count": null,
      "outputs": [
        {
          "output_type": "stream",
          "name": "stdout",
          "text": [
            "16/16 [==============================] - 0s 2ms/step - loss: 0.3488 - accuracy: 0.8360\n",
            "Accuracy: 83.60\n"
          ]
        }
      ]
    },
    {
      "cell_type": "code",
      "source": [
        "plot_model(model, show_shapes=True,\n",
        "    show_dtype=True,\n",
        "    show_layer_names=True,\n",
        "    expand_nested=True,\n",
        "    dpi=96,\n",
        "    show_layer_activations=True)"
      ],
      "metadata": {
        "colab": {
          "base_uri": "https://localhost:8080/",
          "height": 545
        },
        "id": "hgWAtaNzinsk",
        "outputId": "408629e7-cb33-4899-eef5-95d67d741e5b"
      },
      "execution_count": null,
      "outputs": [
        {
          "output_type": "execute_result",
          "data": {
            "image/png": "[encoded data removed]",
            "text/plain": [
              "<IPython.core.display.Image object>"
            ]
          },
          "metadata": {},
          "execution_count": 12
        }
      ]
    },
    {
      "cell_type": "code",
      "source": [
        "model.save('model.h5')"
      ],
      "metadata": {
        "id": "B8zYAPgHZvkx"
      },
      "execution_count": null,
      "outputs": []
    },
    {
      "cell_type": "markdown",
      "source": [
        "# Testing (Prediction)"
      ],
      "metadata": {
        "id": "Jle3DrJhZ3ib"
      }
    },
    {
      "cell_type": "code",
      "source": [
        "from sklearn import metrics"
      ],
      "metadata": {
        "id": "ZnNMx-bhfb1O"
      },
      "execution_count": null,
      "outputs": []
    },
    {
      "cell_type": "code",
      "source": [
        "input = dataset[501:,0:5]\n",
        "output = dataset[501:,5]"
      ],
      "metadata": {
        "id": "qhOd5lAsZ_KS"
      },
      "execution_count": null,
      "outputs": []
    },
    {
      "cell_type": "code",
      "source": [
        "probabilities = model.predict(input)"
      ],
      "metadata": {
        "id": "TdgvpCiQapZN",
        "colab": {
          "base_uri": "https://localhost:8080/"
        },
        "outputId": "b29aa3cb-76b1-47f0-ad29-db474719bdfa"
      },
      "execution_count": null,
      "outputs": [
        {
          "output_type": "stream",
          "name": "stdout",
          "text": [
            "6/6 [==============================] - 0s 3ms/step\n"
          ]
        }
      ]
    },
    {
      "cell_type": "code",
      "source": [
        "predictions = []\n",
        "confidence = []\n",
        "for prob in probabilities:\n",
        "    if prob > 0.5:\n",
        "        predictions.append(1)\n",
        "        confidence.append(prob)\n",
        "    else:\n",
        "        predictions.append(0)\n",
        "        confidence.append(1-prob)\n",
        "correct = 0\n",
        "wrong = 0\n",
        "false_positives = 0\n",
        "false_negatives = 0\n",
        "\n",
        "for i,_ in enumerate(predictions):\n",
        "    if predictions[i] == output[i]:\n",
        "        correct = correct +1\n",
        "    else:\n",
        "      if predictions[i] == 1:\n",
        "        false_positives += 1\n",
        "      else:\n",
        "        false_negatives += 1\n",
        "      wrong = wrong +1\n",
        "\n",
        "for i in range(20):\n",
        "    print('%s => %d (expected %d) Confidence: %f' % (input[i].tolist(), predictions[i], output[i], confidence[i]))\n",
        "\n",
        "print('False: %d (Positives: %d, Negatives: %d), Correct: %d , Accuracy: %d' % (wrong,false_positives,false_negatives,correct,((correct/(wrong+correct))*100)))"
      ],
      "metadata": {
        "id": "YMnrxoXFa7ZP",
        "colab": {
          "base_uri": "https://localhost:8080/"
        },
        "outputId": "c737bc4a-4f08-4798-82cf-0bce4fd9f549"
      },
      "execution_count": null,
      "outputs": [
        {
          "output_type": "stream",
          "name": "stdout",
          "text": [
            "[303.4, 312.6, 2706.0, 9.8, 65.0] => 1 (expected 1) Confidence: 0.966551\n",
            "[299.6, 310.1, 1531.0, 36.8, 62.0] => 0 (expected 0) Confidence: 0.987734\n",
            "[297.6, 309.5, 1617.0, 36.2, 42.0] => 0 (expected 0) Confidence: 0.996206\n",
            "[300.7, 309.5, 1470.0, 48.7, 21.0] => 0 (expected 0) Confidence: 0.836197\n",
            "[300.3, 311.2, 1783.0, 25.6, 139.0] => 0 (expected 0) Confidence: 0.937433\n",
            "[300.3, 309.2, 1462.0, 51.4, 48.0] => 0 (expected 0) Confidence: 0.818865\n",
            "[298.7, 309.9, 1593.0, 42.5, 146.0] => 0 (expected 0) Confidence: 0.969099\n",
            "[302.2, 311.3, 1510.0, 36.6, 91.0] => 0 (expected 0) Confidence: 0.979685\n",
            "[298.2, 307.6, 1511.0, 31.0, 209.0] => 0 (expected 1) Confidence: 0.619002\n",
            "[297.9, 307.4, 1606.0, 35.5, 14.0] => 0 (expected 0) Confidence: 0.996632\n",
            "[302.2, 311.2, 1544.0, 43.6, 63.0] => 0 (expected 0) Confidence: 0.984954\n",
            "[302.9, 311.2, 1330.0, 53.7, 200.0] => 1 (expected 1) Confidence: 0.918565\n",
            "[300.5, 309.3, 1475.0, 46.8, 94.0] => 0 (expected 0) Confidence: 0.932094\n",
            "[302.1, 310.6, 1421.0, 52.0, 95.0] => 0 (expected 0) Confidence: 0.746035\n",
            "[300.8, 311.4, 1316.0, 57.6, 43.0] => 1 (expected 0) Confidence: 0.785914\n",
            "[302.7, 311.6, 2709.0, 9.7, 2.0] => 1 (expected 1) Confidence: 0.977705\n",
            "[301.7, 310.9, 1405.0, 46.4, 207.0] => 1 (expected 1) Confidence: 0.711622\n",
            "[300.4, 311.8, 1272.0, 59.2, 198.0] => 1 (expected 1) Confidence: 0.965911\n",
            "[303.6, 312.7, 1403.0, 46.2, 57.0] => 0 (expected 0) Confidence: 0.691972\n",
            "[299.1, 308.8, 1320.0, 67.5, 20.0] => 1 (expected 1) Confidence: 0.848818\n",
            "False: 32 (Positives: 13, Negatives: 19), Correct: 145 , Accuracy: 81\n"
          ]
        }
      ]
    },
    {
      "cell_type": "code",
      "source": [
        "confusion_matrix = metrics.confusion_matrix(predictions, output)\n",
        "\n",
        "cm_display = metrics.ConfusionMatrixDisplay(confusion_matrix = confusion_matrix, display_labels = [0,1,2,3,4])\n",
        "\n",
        "cm_display.plot()\n",
        "plt.show()"
      ],
      "metadata": {
        "colab": {
          "base_uri": "https://localhost:8080/",
          "height": 279
        },
        "id": "LYQl7XMUfgEv",
        "outputId": "070eca5c-b76c-48d8-8b79-f6c80ca570a0"
      },
      "execution_count": null,
      "outputs": [
        {
          "output_type": "display_data",
          "data": {
            "text/plain": [
              "<Figure size 432x288 with 2 Axes>"
            ],
            "image/png": "[encoded data removed]"
          },
          "metadata": {
            "needs_background": "light"
          }
        }
      ]
    }
  ]
}